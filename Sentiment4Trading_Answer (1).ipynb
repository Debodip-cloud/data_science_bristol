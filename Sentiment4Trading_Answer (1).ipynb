{
 "cells": [
  {
   "cell_type": "markdown",
   "metadata": {
    "_cell_guid": "83708667-4fdc-1563-7b3a-06b6575d2865"
   },
   "source": [
    "# NLP and Sentiment Analysis based Trading Strategy\n",
    "\n",
    "In this case study we use NLP to build a trading strategy.\n",
    "\n",
    "Reference: Tatsat, Hariom, Sahil Puri, and Brad Lookabaugh. Machine Learning and Data Science Blueprints for Finance. O'Reilly Media, 2020."
   ]
  },
  {
   "cell_type": "markdown",
   "metadata": {},
   "source": [
    "<a id='1'></a>\n",
    "# 1. Problem Statement"
   ]
  },
  {
   "cell_type": "markdown",
   "metadata": {},
   "source": [
    "The problem statement is to build a trading strategy that uses NLP to extracts the information inside the news headlines, assigns a sentiment to that and use the sentiments and the information inside the news headlines for a trading strategy.\n",
    "\n",
    "The data used for this case study will be from three sources:\n",
    "* **News headlines data compiled from RSS feeds of several news websites**: This news headlines data is complied by different news website and contains the most financially relevant news filtered by human editors. For the purpose of this study, we will only look at the headline, not the details in the story. Another important characteristic of this dataset is that the relevant tickers in the story are extracted. Our dataset contains 82,643 headlines from to 2011-05-02 to 2018-12-28\n",
    "* **Yahoo finance website for the stock return:** (The return data can be obtained from other website such as yahoo finance)"
   ]
  },
  {
   "cell_type": "markdown",
   "metadata": {},
   "source": [
    "<a id='1'></a>\n",
    "# 2. Getting Started- Loading the data and python packages\n"
   ]
  },
  {
   "cell_type": "markdown",
   "metadata": {},
   "source": [
    "<a id='2.1'></a>\n",
    "## 2.1. Loading the python packages\n",
    "\n",
    "As a first step we check if the additional packages needed are present, if not install them. These are checked separately as they aren't included in requirement.txt as they aren't used for all case studies."
   ]
  },
  {
   "cell_type": "code",
   "execution_count": 11,
   "metadata": {
    "scrolled": true
   },
   "outputs": [
    {
     "name": "stdout",
     "output_type": "stream",
     "text": [
      "Defaulting to user installation because normal site-packages is not writeable\n",
      "Requirement already satisfied: nltk==3.4 in /Users/xiang/Library/Python/3.9/lib/python/site-packages (3.4)\n",
      "Requirement already satisfied: six in /Library/Developer/CommandLineTools/Library/Frameworks/Python3.framework/Versions/3.9/lib/python3.9/site-packages (from nltk==3.4) (1.15.0)\n",
      "Requirement already satisfied: singledispatch in /Users/xiang/Library/Python/3.9/lib/python/site-packages (from nltk==3.4) (4.1.0)\n",
      "\n",
      "\u001b[1m[\u001b[0m\u001b[34;49mnotice\u001b[0m\u001b[1;39;49m]\u001b[0m\u001b[39;49m A new release of pip is available: \u001b[0m\u001b[31;49m23.3.1\u001b[0m\u001b[39;49m -> \u001b[0m\u001b[32;49m24.0\u001b[0m\n",
      "\u001b[1m[\u001b[0m\u001b[34;49mnotice\u001b[0m\u001b[1;39;49m]\u001b[0m\u001b[39;49m To update, run: \u001b[0m\u001b[32;49m/Library/Developer/CommandLineTools/usr/bin/python3 -m pip install --upgrade pip\u001b[0m\n",
      "Defaulting to user installation because normal site-packages is not writeable\n",
      "Requirement already satisfied: textblob==0.15.3 in /Users/xiang/Library/Python/3.9/lib/python/site-packages (0.15.3)\n",
      "Requirement already satisfied: nltk>=3.1 in /Users/xiang/Library/Python/3.9/lib/python/site-packages (from textblob==0.15.3) (3.4)\n",
      "Requirement already satisfied: six in /Library/Developer/CommandLineTools/Library/Frameworks/Python3.framework/Versions/3.9/lib/python3.9/site-packages (from nltk>=3.1->textblob==0.15.3) (1.15.0)\n",
      "Requirement already satisfied: singledispatch in /Users/xiang/Library/Python/3.9/lib/python/site-packages (from nltk>=3.1->textblob==0.15.3) (4.1.0)\n",
      "\n",
      "\u001b[1m[\u001b[0m\u001b[34;49mnotice\u001b[0m\u001b[1;39;49m]\u001b[0m\u001b[39;49m A new release of pip is available: \u001b[0m\u001b[31;49m23.3.1\u001b[0m\u001b[39;49m -> \u001b[0m\u001b[32;49m24.0\u001b[0m\n",
      "\u001b[1m[\u001b[0m\u001b[34;49mnotice\u001b[0m\u001b[1;39;49m]\u001b[0m\u001b[39;49m To update, run: \u001b[0m\u001b[32;49m/Library/Developer/CommandLineTools/usr/bin/python3 -m pip install --upgrade pip\u001b[0m\n",
      "Defaulting to user installation because normal site-packages is not writeable\n",
      "Requirement already satisfied: SpaCy in /Users/xiang/Library/Python/3.9/lib/python/site-packages (3.7.4)\n",
      "Requirement already satisfied: spacy-legacy<3.1.0,>=3.0.11 in /Users/xiang/Library/Python/3.9/lib/python/site-packages (from SpaCy) (3.0.12)\n",
      "Requirement already satisfied: spacy-loggers<2.0.0,>=1.0.0 in /Users/xiang/Library/Python/3.9/lib/python/site-packages (from SpaCy) (1.0.5)\n",
      "Requirement already satisfied: murmurhash<1.1.0,>=0.28.0 in /Users/xiang/Library/Python/3.9/lib/python/site-packages (from SpaCy) (1.0.10)\n",
      "Requirement already satisfied: cymem<2.1.0,>=2.0.2 in /Users/xiang/Library/Python/3.9/lib/python/site-packages (from SpaCy) (2.0.8)\n",
      "Requirement already satisfied: preshed<3.1.0,>=3.0.2 in /Users/xiang/Library/Python/3.9/lib/python/site-packages (from SpaCy) (3.0.9)\n",
      "Requirement already satisfied: thinc<8.3.0,>=8.2.2 in /Users/xiang/Library/Python/3.9/lib/python/site-packages (from SpaCy) (8.2.3)\n",
      "Requirement already satisfied: wasabi<1.2.0,>=0.9.1 in /Users/xiang/Library/Python/3.9/lib/python/site-packages (from SpaCy) (1.1.2)\n",
      "Requirement already satisfied: srsly<3.0.0,>=2.4.3 in /Users/xiang/Library/Python/3.9/lib/python/site-packages (from SpaCy) (2.4.8)\n",
      "Requirement already satisfied: catalogue<2.1.0,>=2.0.6 in /Users/xiang/Library/Python/3.9/lib/python/site-packages (from SpaCy) (2.0.10)\n",
      "Requirement already satisfied: weasel<0.4.0,>=0.1.0 in /Users/xiang/Library/Python/3.9/lib/python/site-packages (from SpaCy) (0.3.4)\n",
      "Requirement already satisfied: typer<0.10.0,>=0.3.0 in /Users/xiang/Library/Python/3.9/lib/python/site-packages (from SpaCy) (0.9.4)\n",
      "Requirement already satisfied: smart-open<7.0.0,>=5.2.1 in /Users/xiang/Library/Python/3.9/lib/python/site-packages (from SpaCy) (6.4.0)\n",
      "Requirement already satisfied: tqdm<5.0.0,>=4.38.0 in /Users/xiang/Library/Python/3.9/lib/python/site-packages (from SpaCy) (4.66.1)\n",
      "Requirement already satisfied: requests<3.0.0,>=2.13.0 in /Users/xiang/Library/Python/3.9/lib/python/site-packages (from SpaCy) (2.31.0)\n",
      "Requirement already satisfied: pydantic!=1.8,!=1.8.1,<3.0.0,>=1.7.4 in /Users/xiang/Library/Python/3.9/lib/python/site-packages (from SpaCy) (2.7.0)\n",
      "Requirement already satisfied: jinja2 in /Users/xiang/Library/Python/3.9/lib/python/site-packages (from SpaCy) (3.1.2)\n",
      "Requirement already satisfied: setuptools in /Library/Developer/CommandLineTools/Library/Frameworks/Python3.framework/Versions/3.9/lib/python3.9/site-packages (from SpaCy) (58.0.4)\n",
      "Requirement already satisfied: packaging>=20.0 in /Users/xiang/Library/Python/3.9/lib/python/site-packages (from SpaCy) (23.2)\n",
      "Requirement already satisfied: langcodes<4.0.0,>=3.2.0 in /Users/xiang/Library/Python/3.9/lib/python/site-packages (from SpaCy) (3.3.0)\n",
      "Requirement already satisfied: numpy>=1.19.0 in /Users/xiang/Library/Python/3.9/lib/python/site-packages (from SpaCy) (1.26.0)\n",
      "Requirement already satisfied: annotated-types>=0.4.0 in /Users/xiang/Library/Python/3.9/lib/python/site-packages (from pydantic!=1.8,!=1.8.1,<3.0.0,>=1.7.4->SpaCy) (0.6.0)\n",
      "Requirement already satisfied: pydantic-core==2.18.1 in /Users/xiang/Library/Python/3.9/lib/python/site-packages (from pydantic!=1.8,!=1.8.1,<3.0.0,>=1.7.4->SpaCy) (2.18.1)\n",
      "Requirement already satisfied: typing-extensions>=4.6.1 in /Users/xiang/Library/Python/3.9/lib/python/site-packages (from pydantic!=1.8,!=1.8.1,<3.0.0,>=1.7.4->SpaCy) (4.8.0)\n",
      "Requirement already satisfied: charset-normalizer<4,>=2 in /Users/xiang/Library/Python/3.9/lib/python/site-packages (from requests<3.0.0,>=2.13.0->SpaCy) (3.3.0)\n",
      "Requirement already satisfied: idna<4,>=2.5 in /Users/xiang/Library/Python/3.9/lib/python/site-packages (from requests<3.0.0,>=2.13.0->SpaCy) (3.4)\n",
      "Requirement already satisfied: urllib3<3,>=1.21.1 in /Users/xiang/Library/Python/3.9/lib/python/site-packages (from requests<3.0.0,>=2.13.0->SpaCy) (1.26.6)\n",
      "Requirement already satisfied: certifi>=2017.4.17 in /Users/xiang/Library/Python/3.9/lib/python/site-packages (from requests<3.0.0,>=2.13.0->SpaCy) (2023.7.22)\n",
      "Requirement already satisfied: blis<0.8.0,>=0.7.8 in /Users/xiang/Library/Python/3.9/lib/python/site-packages (from thinc<8.3.0,>=8.2.2->SpaCy) (0.7.11)\n",
      "Requirement already satisfied: confection<1.0.0,>=0.0.1 in /Users/xiang/Library/Python/3.9/lib/python/site-packages (from thinc<8.3.0,>=8.2.2->SpaCy) (0.1.4)\n",
      "Requirement already satisfied: click<9.0.0,>=7.1.1 in /Users/xiang/Library/Python/3.9/lib/python/site-packages (from typer<0.10.0,>=0.3.0->SpaCy) (8.1.7)\n",
      "Requirement already satisfied: cloudpathlib<0.17.0,>=0.7.0 in /Users/xiang/Library/Python/3.9/lib/python/site-packages (from weasel<0.4.0,>=0.1.0->SpaCy) (0.16.0)\n",
      "Requirement already satisfied: MarkupSafe>=2.0 in /Users/xiang/Library/Python/3.9/lib/python/site-packages (from jinja2->SpaCy) (2.1.3)\n",
      "\n",
      "\u001b[1m[\u001b[0m\u001b[34;49mnotice\u001b[0m\u001b[1;39;49m]\u001b[0m\u001b[39;49m A new release of pip is available: \u001b[0m\u001b[31;49m23.3.1\u001b[0m\u001b[39;49m -> \u001b[0m\u001b[32;49m24.0\u001b[0m\n",
      "\u001b[1m[\u001b[0m\u001b[34;49mnotice\u001b[0m\u001b[1;39;49m]\u001b[0m\u001b[39;49m To update, run: \u001b[0m\u001b[32;49m/Library/Developer/CommandLineTools/usr/bin/python3 -m pip install --upgrade pip\u001b[0m\n",
      "Defaulting to user installation because normal site-packages is not writeable\n",
      "Collecting en-core-web-lg==3.7.1\n",
      "  Downloading https://github.com/explosion/spacy-models/releases/download/en_core_web_lg-3.7.1/en_core_web_lg-3.7.1-py3-none-any.whl (587.7 MB)\n",
      "\u001b[2K     \u001b[90m━━━━━━━━━━━━━━━━━━━━━━━━━━━━━━━━━━━━━━━\u001b[0m \u001b[32m587.7/587.7 MB\u001b[0m \u001b[31m1.9 MB/s\u001b[0m eta \u001b[36m0:00:00\u001b[0m00:01\u001b[0m00:04\u001b[0m\n",
      "\u001b[?25hRequirement already satisfied: spacy<3.8.0,>=3.7.2 in /Users/xiang/Library/Python/3.9/lib/python/site-packages (from en-core-web-lg==3.7.1) (3.7.4)\n",
      "Requirement already satisfied: spacy-legacy<3.1.0,>=3.0.11 in /Users/xiang/Library/Python/3.9/lib/python/site-packages (from spacy<3.8.0,>=3.7.2->en-core-web-lg==3.7.1) (3.0.12)\n",
      "Requirement already satisfied: spacy-loggers<2.0.0,>=1.0.0 in /Users/xiang/Library/Python/3.9/lib/python/site-packages (from spacy<3.8.0,>=3.7.2->en-core-web-lg==3.7.1) (1.0.5)\n",
      "Requirement already satisfied: murmurhash<1.1.0,>=0.28.0 in /Users/xiang/Library/Python/3.9/lib/python/site-packages (from spacy<3.8.0,>=3.7.2->en-core-web-lg==3.7.1) (1.0.10)\n",
      "Requirement already satisfied: cymem<2.1.0,>=2.0.2 in /Users/xiang/Library/Python/3.9/lib/python/site-packages (from spacy<3.8.0,>=3.7.2->en-core-web-lg==3.7.1) (2.0.8)\n",
      "Requirement already satisfied: preshed<3.1.0,>=3.0.2 in /Users/xiang/Library/Python/3.9/lib/python/site-packages (from spacy<3.8.0,>=3.7.2->en-core-web-lg==3.7.1) (3.0.9)\n",
      "Requirement already satisfied: thinc<8.3.0,>=8.2.2 in /Users/xiang/Library/Python/3.9/lib/python/site-packages (from spacy<3.8.0,>=3.7.2->en-core-web-lg==3.7.1) (8.2.3)\n",
      "Requirement already satisfied: wasabi<1.2.0,>=0.9.1 in /Users/xiang/Library/Python/3.9/lib/python/site-packages (from spacy<3.8.0,>=3.7.2->en-core-web-lg==3.7.1) (1.1.2)\n",
      "Requirement already satisfied: srsly<3.0.0,>=2.4.3 in /Users/xiang/Library/Python/3.9/lib/python/site-packages (from spacy<3.8.0,>=3.7.2->en-core-web-lg==3.7.1) (2.4.8)\n",
      "Requirement already satisfied: catalogue<2.1.0,>=2.0.6 in /Users/xiang/Library/Python/3.9/lib/python/site-packages (from spacy<3.8.0,>=3.7.2->en-core-web-lg==3.7.1) (2.0.10)\n",
      "Requirement already satisfied: weasel<0.4.0,>=0.1.0 in /Users/xiang/Library/Python/3.9/lib/python/site-packages (from spacy<3.8.0,>=3.7.2->en-core-web-lg==3.7.1) (0.3.4)\n",
      "Requirement already satisfied: typer<0.10.0,>=0.3.0 in /Users/xiang/Library/Python/3.9/lib/python/site-packages (from spacy<3.8.0,>=3.7.2->en-core-web-lg==3.7.1) (0.9.4)\n",
      "Requirement already satisfied: smart-open<7.0.0,>=5.2.1 in /Users/xiang/Library/Python/3.9/lib/python/site-packages (from spacy<3.8.0,>=3.7.2->en-core-web-lg==3.7.1) (6.4.0)\n",
      "Requirement already satisfied: tqdm<5.0.0,>=4.38.0 in /Users/xiang/Library/Python/3.9/lib/python/site-packages (from spacy<3.8.0,>=3.7.2->en-core-web-lg==3.7.1) (4.66.1)\n",
      "Requirement already satisfied: requests<3.0.0,>=2.13.0 in /Users/xiang/Library/Python/3.9/lib/python/site-packages (from spacy<3.8.0,>=3.7.2->en-core-web-lg==3.7.1) (2.31.0)\n",
      "Requirement already satisfied: pydantic!=1.8,!=1.8.1,<3.0.0,>=1.7.4 in /Users/xiang/Library/Python/3.9/lib/python/site-packages (from spacy<3.8.0,>=3.7.2->en-core-web-lg==3.7.1) (2.7.0)\n",
      "Requirement already satisfied: jinja2 in /Users/xiang/Library/Python/3.9/lib/python/site-packages (from spacy<3.8.0,>=3.7.2->en-core-web-lg==3.7.1) (3.1.2)\n",
      "Requirement already satisfied: setuptools in /Library/Developer/CommandLineTools/Library/Frameworks/Python3.framework/Versions/3.9/lib/python3.9/site-packages (from spacy<3.8.0,>=3.7.2->en-core-web-lg==3.7.1) (58.0.4)\n",
      "Requirement already satisfied: packaging>=20.0 in /Users/xiang/Library/Python/3.9/lib/python/site-packages (from spacy<3.8.0,>=3.7.2->en-core-web-lg==3.7.1) (23.2)\n",
      "Requirement already satisfied: langcodes<4.0.0,>=3.2.0 in /Users/xiang/Library/Python/3.9/lib/python/site-packages (from spacy<3.8.0,>=3.7.2->en-core-web-lg==3.7.1) (3.3.0)\n",
      "Requirement already satisfied: numpy>=1.19.0 in /Users/xiang/Library/Python/3.9/lib/python/site-packages (from spacy<3.8.0,>=3.7.2->en-core-web-lg==3.7.1) (1.26.0)\n",
      "Requirement already satisfied: annotated-types>=0.4.0 in /Users/xiang/Library/Python/3.9/lib/python/site-packages (from pydantic!=1.8,!=1.8.1,<3.0.0,>=1.7.4->spacy<3.8.0,>=3.7.2->en-core-web-lg==3.7.1) (0.6.0)\n",
      "Requirement already satisfied: pydantic-core==2.18.1 in /Users/xiang/Library/Python/3.9/lib/python/site-packages (from pydantic!=1.8,!=1.8.1,<3.0.0,>=1.7.4->spacy<3.8.0,>=3.7.2->en-core-web-lg==3.7.1) (2.18.1)\n",
      "Requirement already satisfied: typing-extensions>=4.6.1 in /Users/xiang/Library/Python/3.9/lib/python/site-packages (from pydantic!=1.8,!=1.8.1,<3.0.0,>=1.7.4->spacy<3.8.0,>=3.7.2->en-core-web-lg==3.7.1) (4.8.0)\n",
      "Requirement already satisfied: charset-normalizer<4,>=2 in /Users/xiang/Library/Python/3.9/lib/python/site-packages (from requests<3.0.0,>=2.13.0->spacy<3.8.0,>=3.7.2->en-core-web-lg==3.7.1) (3.3.0)\n",
      "Requirement already satisfied: idna<4,>=2.5 in /Users/xiang/Library/Python/3.9/lib/python/site-packages (from requests<3.0.0,>=2.13.0->spacy<3.8.0,>=3.7.2->en-core-web-lg==3.7.1) (3.4)\n",
      "Requirement already satisfied: urllib3<3,>=1.21.1 in /Users/xiang/Library/Python/3.9/lib/python/site-packages (from requests<3.0.0,>=2.13.0->spacy<3.8.0,>=3.7.2->en-core-web-lg==3.7.1) (1.26.6)\n",
      "Requirement already satisfied: certifi>=2017.4.17 in /Users/xiang/Library/Python/3.9/lib/python/site-packages (from requests<3.0.0,>=2.13.0->spacy<3.8.0,>=3.7.2->en-core-web-lg==3.7.1) (2023.7.22)\n",
      "Requirement already satisfied: blis<0.8.0,>=0.7.8 in /Users/xiang/Library/Python/3.9/lib/python/site-packages (from thinc<8.3.0,>=8.2.2->spacy<3.8.0,>=3.7.2->en-core-web-lg==3.7.1) (0.7.11)\n",
      "Requirement already satisfied: confection<1.0.0,>=0.0.1 in /Users/xiang/Library/Python/3.9/lib/python/site-packages (from thinc<8.3.0,>=8.2.2->spacy<3.8.0,>=3.7.2->en-core-web-lg==3.7.1) (0.1.4)\n",
      "Requirement already satisfied: click<9.0.0,>=7.1.1 in /Users/xiang/Library/Python/3.9/lib/python/site-packages (from typer<0.10.0,>=0.3.0->spacy<3.8.0,>=3.7.2->en-core-web-lg==3.7.1) (8.1.7)\n",
      "Requirement already satisfied: cloudpathlib<0.17.0,>=0.7.0 in /Users/xiang/Library/Python/3.9/lib/python/site-packages (from weasel<0.4.0,>=0.1.0->spacy<3.8.0,>=3.7.2->en-core-web-lg==3.7.1) (0.16.0)\n",
      "Requirement already satisfied: MarkupSafe>=2.0 in /Users/xiang/Library/Python/3.9/lib/python/site-packages (from jinja2->spacy<3.8.0,>=3.7.2->en-core-web-lg==3.7.1) (2.1.3)\n",
      "\n",
      "\u001b[1m[\u001b[0m\u001b[34;49mnotice\u001b[0m\u001b[1;39;49m]\u001b[0m\u001b[39;49m A new release of pip is available: \u001b[0m\u001b[31;49m23.3.1\u001b[0m\u001b[39;49m -> \u001b[0m\u001b[32;49m24.0\u001b[0m\n",
      "\u001b[1m[\u001b[0m\u001b[34;49mnotice\u001b[0m\u001b[1;39;49m]\u001b[0m\u001b[39;49m To update, run: \u001b[0m\u001b[32;49m/Library/Developer/CommandLineTools/usr/bin/python3 -m pip install --upgrade pip\u001b[0m\n",
      "\u001b[38;5;2m✔ Download and installation successful\u001b[0m\n",
      "You can now load the package via spacy.load('en_core_web_lg')\n",
      "Defaulting to user installation because normal site-packages is not writeable\n",
      "Requirement already satisfied: backtrader==1.9.74.123 in /Users/xiang/Library/Python/3.9/lib/python/site-packages (1.9.74.123)\n",
      "\n",
      "\u001b[1m[\u001b[0m\u001b[34;49mnotice\u001b[0m\u001b[1;39;49m]\u001b[0m\u001b[39;49m A new release of pip is available: \u001b[0m\u001b[31;49m23.3.1\u001b[0m\u001b[39;49m -> \u001b[0m\u001b[32;49m24.0\u001b[0m\n",
      "\u001b[1m[\u001b[0m\u001b[34;49mnotice\u001b[0m\u001b[1;39;49m]\u001b[0m\u001b[39;49m To update, run: \u001b[0m\u001b[32;49m/Library/Developer/CommandLineTools/usr/bin/python3 -m pip install --upgrade pip\u001b[0m\n"
     ]
    }
   ],
   "source": [
    "import pkg_resources\n",
    "import pip\n",
    "installedPackages = {pkg.key for pkg in pkg_resources.working_set}\n",
    "required = {'nltk', 'spacy', 'textblob', 'backtrader'}\n",
    "missing = required - installedPackages\n",
    "if missing:\n",
    "    !pip3 install nltk==3.4\n",
    "    !pip3 install textblob==0.15.3\n",
    "    !pip3 install -U SpaCy\n",
    "    !python3 -m spacy download en_core_web_lg\n",
    "    !pip3 install backtrader==1.9.74.123    "
   ]
  },
  {
   "cell_type": "markdown",
   "metadata": {},
   "source": [
    "Let us load the libraries"
   ]
  },
  {
   "cell_type": "code",
   "execution_count": 12,
   "metadata": {
    "_cell_guid": "5d8fee34-f454-2642-8b06-ed719f0317e1"
   },
   "outputs": [
    {
     "name": "stdout",
     "output_type": "stream",
     "text": [
      "zsh:1: command not found: python\n"
     ]
    },
    {
     "name": "stderr",
     "output_type": "stream",
     "text": [
      "[nltk_data] Downloading package vader_lexicon to\n",
      "[nltk_data]     /Users/xiang/nltk_data...\n",
      "[nltk_data]   Package vader_lexicon is already up-to-date!\n"
     ]
    }
   ],
   "source": [
    "#NLP libraries\n",
    "from textblob import TextBlob\n",
    "import spacy\n",
    "import nltk\n",
    "import warnings\n",
    "from nltk.sentiment.vader import SentimentIntensityAnalyzer\n",
    "nltk.download('vader_lexicon')\n",
    "import csv\n",
    "import pandas as pd\n",
    "\n",
    "# nlp = spacy.load('en_core_web_sm')\n",
    "!python -m spacy download en_core_web_md \n",
    "# import en_core_web_sm\n",
    "nlp = spacy.load(\"en_core_web_sm\")\n",
    "\n",
    "#Libraries for processing the news headlines\n",
    "from lxml import etree\n",
    "import json\n",
    "from io import StringIO\n",
    "from os import listdir\n",
    "from os.path import isfile, join\n",
    "from pandas.tseries.offsets import BDay\n",
    "from scipy.stats.mstats import winsorize\n",
    "from copy import copy\n",
    "\n",
    "# Libraries for Classification for modeling the sentiments\n",
    "from sklearn.neural_network import MLPClassifier\n",
    "from sklearn.ensemble import RandomForestClassifier\n",
    "from sklearn.linear_model import LogisticRegression\n",
    "from sklearn.tree import DecisionTreeClassifier\n",
    "from sklearn.neighbors import KNeighborsClassifier\n",
    "from sklearn.svm import SVC\n",
    "from sklearn.metrics import classification_report, confusion_matrix, accuracy_score\n",
    "\n",
    "# Keras package for the deep learning model for the sentiment prediction. \n",
    "from keras.preprocessing.text import Tokenizer\n",
    "from keras.utils import pad_sequences\n",
    "from keras.models import Sequential\n",
    "from keras.layers import Dense, Flatten, LSTM, Dropout, Activation\n",
    "from tensorflow.keras.layers import Embedding\n",
    "\n",
    "# Load libraries\n",
    "import statsmodels.api as sm\n",
    "import seaborn as sns\n",
    "import pandas as pd\n",
    "import numpy as np\n",
    "import datetime\n",
    "from datetime import date\n",
    "import matplotlib.pyplot as plt\n",
    "import yfinance as yf\n",
    "\n",
    "#Additional Libraries \n",
    "import json  \n",
    "import zipfile\n",
    "import os.path\n",
    "import sys"
   ]
  },
  {
   "cell_type": "code",
   "execution_count": 13,
   "metadata": {},
   "outputs": [],
   "source": [
    "#Diable the warnings\n",
    "import warnings\n",
    "warnings.filterwarnings('ignore')"
   ]
  },
  {
   "cell_type": "markdown",
   "metadata": {},
   "source": [
    "<a id='2.2'></a>\n",
    "## 2.2. Loading the stock price data\n",
    "\n",
    "The stock price data is loaded in this step from Yahoo Finance in this step. The loaded data is saved in csv for further use."
   ]
  },
  {
   "cell_type": "code",
   "execution_count": 23,
   "metadata": {},
   "outputs": [],
   "source": [
    "tickers = ['AAPL','MSFT','AMZN','GOOG','WMT','JPM','TSLA','NFLX','ADBE']\n",
    "start = '2010-01-01'\n",
    "end = '2018-12-31'\n",
    "df_ticker_return = pd.DataFrame()\n",
    "for ticker in tickers:    \n",
    "    ticker_yf = yf.Ticker(ticker)\n",
    "    if df_ticker_return.empty:\n",
    "        df_ticker_return = ticker_yf.history(start = start, end = end)\n",
    "        df_ticker_return['ticker']= ticker \n",
    "    else:\n",
    "        data_temp = ticker_yf.history(start = start, end = end)\n",
    "        data_temp['ticker']= ticker \n",
    "        df_ticker_return = pd.concat([df_ticker_return, data_temp])\n",
    "df_ticker_return.to_csv(r'Data/Step2.2_ReturnData.csv')"
   ]
  },
  {
   "cell_type": "markdown",
   "metadata": {},
   "source": [
    "Let us look at the details of the data"
   ]
  },
  {
   "cell_type": "code",
   "execution_count": 24,
   "metadata": {},
   "outputs": [
    {
     "data": {
      "text/html": [
       "<div>\n",
       "<style scoped>\n",
       "    .dataframe tbody tr th:only-of-type {\n",
       "        vertical-align: middle;\n",
       "    }\n",
       "\n",
       "    .dataframe tbody tr th {\n",
       "        vertical-align: top;\n",
       "    }\n",
       "\n",
       "    .dataframe thead th {\n",
       "        text-align: right;\n",
       "    }\n",
       "</style>\n",
       "<table border=\"1\" class=\"dataframe\">\n",
       "  <thead>\n",
       "    <tr style=\"text-align: right;\">\n",
       "      <th></th>\n",
       "      <th>Open</th>\n",
       "      <th>High</th>\n",
       "      <th>Low</th>\n",
       "      <th>Close</th>\n",
       "      <th>Volume</th>\n",
       "      <th>Dividends</th>\n",
       "      <th>Stock Splits</th>\n",
       "      <th>ticker</th>\n",
       "    </tr>\n",
       "    <tr>\n",
       "      <th>Date</th>\n",
       "      <th></th>\n",
       "      <th></th>\n",
       "      <th></th>\n",
       "      <th></th>\n",
       "      <th></th>\n",
       "      <th></th>\n",
       "      <th></th>\n",
       "      <th></th>\n",
       "    </tr>\n",
       "  </thead>\n",
       "  <tbody>\n",
       "    <tr>\n",
       "      <th>2010-01-04 00:00:00-05:00</th>\n",
       "      <td>6.453206</td>\n",
       "      <td>6.485558</td>\n",
       "      <td>6.421458</td>\n",
       "      <td>6.470742</td>\n",
       "      <td>493729600</td>\n",
       "      <td>0.0</td>\n",
       "      <td>0.0</td>\n",
       "      <td>AAPL</td>\n",
       "    </tr>\n",
       "    <tr>\n",
       "      <th>2010-01-05 00:00:00-05:00</th>\n",
       "      <td>6.488580</td>\n",
       "      <td>6.518514</td>\n",
       "      <td>6.447762</td>\n",
       "      <td>6.481928</td>\n",
       "      <td>601904800</td>\n",
       "      <td>0.0</td>\n",
       "      <td>0.0</td>\n",
       "      <td>AAPL</td>\n",
       "    </tr>\n",
       "  </tbody>\n",
       "</table>\n",
       "</div>"
      ],
      "text/plain": [
       "                               Open      High       Low     Close     Volume  \\\n",
       "Date                                                                           \n",
       "2010-01-04 00:00:00-05:00  6.453206  6.485558  6.421458  6.470742  493729600   \n",
       "2010-01-05 00:00:00-05:00  6.488580  6.518514  6.447762  6.481928  601904800   \n",
       "\n",
       "                           Dividends  Stock Splits ticker  \n",
       "Date                                                       \n",
       "2010-01-04 00:00:00-05:00        0.0           0.0   AAPL  \n",
       "2010-01-05 00:00:00-05:00        0.0           0.0   AAPL  "
      ]
     },
     "execution_count": 24,
     "metadata": {},
     "output_type": "execute_result"
    }
   ],
   "source": [
    "df_ticker_return.head(2)"
   ]
  },
  {
   "cell_type": "markdown",
   "metadata": {},
   "source": [
    "The data contains the tickers and their return. In this next step, we clean the data make sure that the starting point is 2010 and the NAs in the data are dropped. Let us look at the news data now."
   ]
  },
  {
   "cell_type": "markdown",
   "metadata": {},
   "source": [
    "<a id='3'></a>\n",
    "# 3. Data Preparation"
   ]
  },
  {
   "cell_type": "markdown",
   "metadata": {},
   "source": [
    "We divide the data preparation into couple of steps as follows:\n",
    "* Loading and preprocessing the news data\n",
    "* Preparing the combined data"
   ]
  },
  {
   "cell_type": "markdown",
   "metadata": {},
   "source": [
    "<a id='3.1'></a>\n",
    "## 3.1 Loading and preprocessing News Data"
   ]
  },
  {
   "cell_type": "markdown",
   "metadata": {},
   "source": [
    "The news data is downloaded from the News RSS feed and the file is downloaded in the json format and the json files for different dates are kept under a zipped folder. "
   ]
  },
  {
   "cell_type": "markdown",
   "metadata": {},
   "source": [
    "Let us see the content of the json file"
   ]
  },
  {
   "cell_type": "code",
   "execution_count": 25,
   "metadata": {},
   "outputs": [
    {
     "data": {
      "text/plain": [
       "'li class=\"n-box-item date-title\" data-end=\"1305172799\" data-start=\"1305086400\" data-txt=\"Tuesday, December 17, 2019\">Wednesday, May 11, 2011</li><li class=\"n-box-item sa-box-item\" data-id=\"76179\" data-ts=\"1305149244\"><div class=\"media media-overflow-fix\"><div class=\"media-left\"><a class=\"box-ticker\" href=\"/symbol/CSCO\" target=\"_blank\">CSCO</a></div><div class=\"media-body\"><h4 class=\"media-heading\"><a href=\"/news/76179\" sasource=\"on_the_move_news_fidelity\" target=\"_blank\">Cisco (NASDAQ:CSCO): Pr'"
      ]
     },
     "execution_count": 25,
     "metadata": {},
     "output_type": "execute_result"
    }
   ],
   "source": [
    "z = zipfile.ZipFile(\"Data/Raw Headline Data.zip\", \"r\")\n",
    "testFile=z.namelist()[10]\n",
    "fileData= z.open(testFile).read() \n",
    "fileDataSample = json.loads(fileData)['content'][1:500]  \n",
    "fileDataSample"
   ]
  },
  {
   "cell_type": "markdown",
   "metadata": {},
   "source": [
    "As we can see that the json format is not suitable for the algorithm. We need to get the news from the jsons and the following function is used for it. Regex becomes the vital part of this step. Regex can find a pattern in the raw, messy text and perform actions accordingly."
   ]
  },
  {
   "cell_type": "code",
   "execution_count": 26,
   "metadata": {},
   "outputs": [],
   "source": [
    "#This function performs the json parsing given the \n",
    "def jsonParser(json_data): \n",
    "    xml_data = json_data['content']\n",
    "            \n",
    "    tree = etree.parse(StringIO(xml_data), parser=etree.HTMLParser())\n",
    "\n",
    "    headlines = tree.xpath(\"//h4[contains(@class, 'media-heading')]/a/text()\")\n",
    "    assert len(headlines) == json_data['count']\n",
    "\n",
    "    main_tickers = list(map(lambda x: x.replace('/symbol/', ''), tree.xpath(\"//div[contains(@class, 'media-left')]//a/@href\")))\n",
    "    assert len(main_tickers) == json_data['count']\n",
    "    final_headlines = [''.join(f.xpath('.//text()')) for f in tree.xpath(\"//div[contains(@class, 'media-body')]/ul/li[1]\")]\n",
    "    if len(final_headlines) == 0:\n",
    "        final_headlines = [''.join(f.xpath('.//text()')) for f in tree.xpath(\"//div[contains(@class, 'media-body')]\")]\n",
    "        final_headlines = [f.replace(h, '').split('\\xa0')[0].strip() for f,h in zip (final_headlines, headlines)]\n",
    "    return main_tickers, final_headlines"
   ]
  },
  {
   "cell_type": "code",
   "execution_count": 27,
   "metadata": {},
   "outputs": [
    {
     "data": {
      "text/plain": [
       "'Cisco Systems (NASDAQ:CSCO) falls further into the red on FQ4 guidance of $0.37-0.39 vs. $0.42 Street consensus. Sales seen flat to +2% vs. 8% Street view. CSCO recently -2.1%.'"
      ]
     },
     "execution_count": 27,
     "metadata": {},
     "output_type": "execute_result"
    }
   ],
   "source": [
    "jsonParser(json.loads(fileData))[1][1]"
   ]
  },
  {
   "cell_type": "markdown",
   "metadata": {},
   "source": [
    "As we can see that using the json parser the news headlines are extracted from the complex html format. This format is good enough to be used for further analysis."
   ]
  },
  {
   "cell_type": "markdown",
   "metadata": {},
   "source": [
    "Now, we extract the ticker and the headlines from all the json files and put it in a dataframe. "
   ]
  },
  {
   "cell_type": "code",
   "execution_count": 28,
   "metadata": {},
   "outputs": [],
   "source": [
    "data = None \n",
    "data_df_news = []\n",
    "ret = []\n",
    "ret_f = []\n",
    "with zipfile.ZipFile(\"Data/Raw Headline Data.zip\", \"r\") as z:\n",
    "    for filename in z.namelist(): \n",
    "        #print(filename)\n",
    "        try:               \n",
    "            #print('Running {}'.format(filename))\n",
    "            with z.open(filename) as f:  \n",
    "                data = f.read()  \n",
    "                json_data = json.loads(data)      \n",
    "            if json_data.get('count', 0)> 10:\n",
    "                #Step 1: Parse the News Jsons \n",
    "                main_tickers, final_headlines = jsonParser(json_data) \n",
    "                if len(final_headlines) != json_data['count']:\n",
    "                    continue\n",
    "                #Step 2: Prepare Future and Event Return and assign Future and Event return for each ticker. \n",
    "                file_date = filename.split('/')[-1].replace('.json', '')\n",
    "                file_date = date(int(file_date[:4]), int(file_date[5:7]), int(file_date[8:]))\n",
    "               #Step 3: Merge all the data in a data frame\n",
    "                df_dict = {'ticker': main_tickers,\n",
    "                           'headline': final_headlines,            \n",
    "                           'date': [file_date] * len(main_tickers)\n",
    "                           }\n",
    "                df_f = pd.DataFrame(df_dict)            \n",
    "                data_df_news.append(df_f)            \n",
    "        except:\n",
    "            pass  "
   ]
  },
  {
   "cell_type": "markdown",
   "metadata": {},
   "source": [
    "Let us look at the content of the data"
   ]
  },
  {
   "cell_type": "code",
   "execution_count": 29,
   "metadata": {},
   "outputs": [
    {
     "data": {
      "text/html": [
       "<div>\n",
       "<style scoped>\n",
       "    .dataframe tbody tr th:only-of-type {\n",
       "        vertical-align: middle;\n",
       "    }\n",
       "\n",
       "    .dataframe tbody tr th {\n",
       "        vertical-align: top;\n",
       "    }\n",
       "\n",
       "    .dataframe thead th {\n",
       "        text-align: right;\n",
       "    }\n",
       "</style>\n",
       "<table border=\"1\" class=\"dataframe\">\n",
       "  <thead>\n",
       "    <tr style=\"text-align: right;\">\n",
       "      <th></th>\n",
       "      <th>ticker</th>\n",
       "      <th>headline</th>\n",
       "      <th>date</th>\n",
       "    </tr>\n",
       "  </thead>\n",
       "  <tbody>\n",
       "    <tr>\n",
       "      <th>0</th>\n",
       "      <td>DVA</td>\n",
       "      <td>Davita (NYSE:DVA): EPS of $0.96 beats by $0.01...</td>\n",
       "      <td>2011-05-02</td>\n",
       "    </tr>\n",
       "    <tr>\n",
       "      <th>1</th>\n",
       "      <td>CGNX</td>\n",
       "      <td>Cognex (NASDAQ:CGNX): EPS of $0.32 beats by $0...</td>\n",
       "      <td>2011-05-02</td>\n",
       "    </tr>\n",
       "  </tbody>\n",
       "</table>\n",
       "</div>"
      ],
      "text/plain": [
       "  ticker                                           headline        date\n",
       "0    DVA  Davita (NYSE:DVA): EPS of $0.96 beats by $0.01...  2011-05-02\n",
       "1   CGNX  Cognex (NASDAQ:CGNX): EPS of $0.32 beats by $0...  2011-05-02"
      ]
     },
     "execution_count": 29,
     "metadata": {},
     "output_type": "execute_result"
    }
   ],
   "source": [
    "data_df_news=pd.concat(data_df_news)\n",
    "data_df_news.head(2)"
   ]
  },
  {
   "cell_type": "markdown",
   "metadata": {},
   "source": [
    "As we can see the data has the ticker, headlines and the date which will be used in the next step for combining with the return."
   ]
  },
  {
   "cell_type": "markdown",
   "metadata": {},
   "source": [
    "<a id='3.2'></a>\n",
    "## 3.2 Preparing the combined data"
   ]
  },
  {
   "cell_type": "markdown",
   "metadata": {},
   "source": [
    "In this step we extract the event return, which is the return that corresponds to\n",
    "the event. We do this because at times the news is reported late and at other times it is\n",
    "reported after market close. Having a slightly wider window ensures that we capture\n",
    "the essence of the event. Event return in defined as follows:\n",
    "$ R_{t-1} + R_t + R_{t+1} $\n",
    "\n",
    "Where, $ R_{t-1} $, $ R_{t+1} $ are the return before and after the news data and $ R_{t} $ is the return on\n",
    "the day of the news (i.e. time t)"
   ]
  },
  {
   "cell_type": "code",
   "execution_count": 30,
   "metadata": {},
   "outputs": [],
   "source": [
    "#Computing the return\n",
    "df_ticker_return['ret_curr'] = df_ticker_return['Close'].pct_change()\n",
    "#Computing the event return\n",
    "df_ticker_return['eventRet'] = df_ticker_return['ret_curr'] + df_ticker_return['ret_curr'].shift(-1) + df_ticker_return['ret_curr'].shift(1)\n",
    "df_ticker_return.reset_index(level=0, inplace=True)\n",
    "df_ticker_return['date'] = pd.to_datetime(df_ticker_return['Date']).apply(lambda x: x.date())"
   ]
  },
  {
   "cell_type": "markdown",
   "metadata": {},
   "source": [
    "Now we have all the data in place we will prepare a combined dataframe which will have the news headlines mapped to the date, event Return and stock ticker. This dataframe will be used for further analysis for sentiment analysis model and for building the trading strategy."
   ]
  },
  {
   "cell_type": "code",
   "execution_count": 31,
   "metadata": {},
   "outputs": [],
   "source": [
    "combinedDataFrame = pd.merge(data_df_news, df_ticker_return, how='left', left_on=['date','ticker'], right_on=['date','ticker'])\n",
    "combinedDataFrame = combinedDataFrame[combinedDataFrame['ticker'].isin(tickers)]\n",
    "data_df = combinedDataFrame[['ticker','headline','date','eventRet','Close']]\n",
    "data_df = data_df.dropna()"
   ]
  },
  {
   "cell_type": "code",
   "execution_count": 32,
   "metadata": {},
   "outputs": [
    {
     "data": {
      "text/html": [
       "<div>\n",
       "<style scoped>\n",
       "    .dataframe tbody tr th:only-of-type {\n",
       "        vertical-align: middle;\n",
       "    }\n",
       "\n",
       "    .dataframe tbody tr th {\n",
       "        vertical-align: top;\n",
       "    }\n",
       "\n",
       "    .dataframe thead th {\n",
       "        text-align: right;\n",
       "    }\n",
       "</style>\n",
       "<table border=\"1\" class=\"dataframe\">\n",
       "  <thead>\n",
       "    <tr style=\"text-align: right;\">\n",
       "      <th></th>\n",
       "      <th>ticker</th>\n",
       "      <th>headline</th>\n",
       "      <th>date</th>\n",
       "      <th>eventRet</th>\n",
       "      <th>Close</th>\n",
       "    </tr>\n",
       "  </thead>\n",
       "  <tbody>\n",
       "    <tr>\n",
       "      <th>5</th>\n",
       "      <td>AMZN</td>\n",
       "      <td>Whole Foods (WFMI) -5.2% following a downgrade...</td>\n",
       "      <td>2011-05-02</td>\n",
       "      <td>0.017650</td>\n",
       "      <td>10.059500</td>\n",
       "    </tr>\n",
       "    <tr>\n",
       "      <th>11</th>\n",
       "      <td>NFLX</td>\n",
       "      <td>Netflix (NFLX +1.1%) shares post early gains a...</td>\n",
       "      <td>2011-05-02</td>\n",
       "      <td>-0.012912</td>\n",
       "      <td>33.884285</td>\n",
       "    </tr>\n",
       "  </tbody>\n",
       "</table>\n",
       "</div>"
      ],
      "text/plain": [
       "   ticker                                           headline        date  \\\n",
       "5    AMZN  Whole Foods (WFMI) -5.2% following a downgrade...  2011-05-02   \n",
       "11   NFLX  Netflix (NFLX +1.1%) shares post early gains a...  2011-05-02   \n",
       "\n",
       "    eventRet      Close  \n",
       "5   0.017650  10.059500  \n",
       "11 -0.012912  33.884285  "
      ]
     },
     "execution_count": 32,
     "metadata": {},
     "output_type": "execute_result"
    }
   ],
   "source": [
    "data_df.head(2)"
   ]
  },
  {
   "cell_type": "markdown",
   "metadata": {},
   "source": [
    "Let us save the data in a csv file to be used later, so that the data processing step can be skipped everytime we are looking into analysis. "
   ]
  },
  {
   "cell_type": "code",
   "execution_count": 33,
   "metadata": {},
   "outputs": [],
   "source": [
    "data_df.dropna().to_csv(r'Data\\Step3_NewsAndReturnData.csv', sep='|', index=False)"
   ]
  },
  {
   "cell_type": "markdown",
   "metadata": {},
   "source": [
    "<a id='3.3'></a>\n",
    "## 3.3 Loading the preprocessed data\n",
    "#### Start from this step in case you dont want to run the previous preprocessing steps"
   ]
  },
  {
   "cell_type": "code",
   "execution_count": 34,
   "metadata": {},
   "outputs": [],
   "source": [
    "data_df = pd.read_csv(r'Data\\Step3_NewsAndReturnData.csv', sep='|')\n",
    "data_df = data_df.dropna()"
   ]
  },
  {
   "cell_type": "code",
   "execution_count": 35,
   "metadata": {},
   "outputs": [
    {
     "name": "stdout",
     "output_type": "stream",
     "text": [
      "(2454, 5) (9,)\n"
     ]
    }
   ],
   "source": [
    "print(data_df.shape, data_df.ticker.unique().shape)"
   ]
  },
  {
   "cell_type": "markdown",
   "metadata": {},
   "source": [
    "In this step, we prepared a clean dataframe that has ticker, headline, event return, return for a given day and future return for 9 unique stock tickers with total 2454 rows of data."
   ]
  },
  {
   "cell_type": "markdown",
   "metadata": {},
   "source": [
    "<a id='4'></a>\n",
    "# 4 Evaluate Models for Sentiment Analysis"
   ]
  },
  {
   "cell_type": "markdown",
   "metadata": {},
   "source": [
    "In this section we will go through following two different approaches of getting the sentiments for the news which we will use for building the trading strategy.\n",
    "\n",
    "* Predefined model-TextBlob package\n",
    "* Tuned Model-Classification algorithms and LSTM\n",
    "\n",
    "We will also explore the difference between different ways of performing the sentiment analysis. Let us go through the steps. "
   ]
  },
  {
   "cell_type": "markdown",
   "metadata": {},
   "source": [
    "<a id='4.1'></a>\n",
    "## 4.1 - Predefined model-TextBlob package"
   ]
  },
  {
   "cell_type": "markdown",
   "metadata": {},
   "source": [
    "The texblob sentiment function is pretrained model based on Naïve-Bayes classification algorithm to convert a sentence to a numerical value of sentiment between -1 to +1 and map adjectives frequently found in movie reviews(source code: https://textblob.readthedocs.io/en/dev/_modules/textblob/en/sentiments.html) to sentiment polarity scores, ranging from -1 to +1 (negative ↔ positive) and a similar subjectivity score (objective ↔ subjective). We apply this on all headline articles. Let us compute the sentiment for all the headlines in the data"
   ]
  },
  {
   "cell_type": "code",
   "execution_count": 36,
   "metadata": {},
   "outputs": [],
   "source": [
    "text1 = \"Bayer (OTCPK:BAYRY) started the week up 3.5% to €74/share in Frankfurt, touching their \\\n",
    "highest level in 14 months, after the U.S. government said a $25M glyphosate decision against the \\\n",
    "company should be reversed.\""
   ]
  },
  {
   "cell_type": "code",
   "execution_count": 37,
   "metadata": {},
   "outputs": [
    {
     "data": {
      "text/plain": [
       "0.5"
      ]
     },
     "execution_count": 37,
     "metadata": {},
     "output_type": "execute_result"
    }
   ],
   "source": [
    "TextBlob(text1).sentiment.polarity"
   ]
  },
  {
   "cell_type": "markdown",
   "metadata": {},
   "source": [
    "The sentiment polarity is a number between -1 (Very Negative) and +1 (Very Positive). We apply this on all headline we have in the data processed in the previous step. Let us compute the sentiment for all the headlines in the data"
   ]
  },
  {
   "cell_type": "code",
   "execution_count": 38,
   "metadata": {},
   "outputs": [],
   "source": [
    "data_df['sentiment_textblob'] = [TextBlob(s).sentiment.polarity for s in data_df['headline']] "
   ]
  },
  {
   "cell_type": "markdown",
   "metadata": {},
   "source": [
    "Let us analyse the scatterplot of the sentiments and the return."
   ]
  },
  {
   "cell_type": "code",
   "execution_count": 39,
   "metadata": {},
   "outputs": [
    {
     "data": {
      "image/png": "[encoded data removed]",
      "text/plain": [
       "<Figure size 640x480 with 1 Axes>"
      ]
     },
     "metadata": {},
     "output_type": "display_data"
    }
   ],
   "source": [
    "plt.scatter(data_df['sentiment_textblob'],data_df['eventRet'], alpha=0.5)\n",
    "plt.title('Scatter Between Event return and sentiments-all data')\n",
    "plt.ylabel('Event Return')\n",
    "plt.xlabel('Sentiments')\n",
    "plt.show()"
   ]
  },
  {
   "cell_type": "code",
   "execution_count": 40,
   "metadata": {},
   "outputs": [
    {
     "name": "stdout",
     "output_type": "stream",
     "text": [
      "0.06646047003898944\n"
     ]
    }
   ],
   "source": [
    "corrlation = data_df['eventRet'].corr(data_df['sentiment_textblob'])\n",
    "print(corrlation)"
   ]
  },
  {
   "cell_type": "markdown",
   "metadata": {},
   "source": [
    "The correlation is positive, which means that news with positive sentiments lead to positive return and is expected. However,the correlation isn't very high.  "
   ]
  },
  {
   "cell_type": "code",
   "execution_count": 41,
   "metadata": {},
   "outputs": [
    {
     "data": {
      "image/png": "[encoded data removed]",
      "text/plain": [
       "<Figure size 640x480 with 1 Axes>"
      ]
     },
     "metadata": {},
     "output_type": "display_data"
    }
   ],
   "source": [
    "# Question: give a scatter plot to reveal the relationship between event return and sentiments for AAPL and provide some observations\n",
    "data_df_stock  = data_df[data_df['ticker'] == 'AAPL']\n",
    "plt.scatter(data_df_stock['sentiment_textblob'],data_df_stock['eventRet'], alpha=0.5)\n",
    "plt.title('Scatter Between Event return and sentiments-AAPL')\n",
    "plt.ylabel('Event Return')\n",
    "plt.xlabel('Sentiments')\n",
    "plt.show()"
   ]
  },
  {
   "cell_type": "markdown",
   "metadata": {},
   "source": [
    "Observations:\n",
    "Overall, from the results we can see that there isn't a strong correlation between the news and the sentiments. Also, there are a lot of sentiments centred around 0. "
   ]
  },
  {
   "cell_type": "markdown",
   "metadata": {},
   "source": [
    "<a id='4.2'></a>\n",
    "## 4.2 - Supervised Learning-Classification algorithms and LSTM"
   ]
  },
  {
   "cell_type": "markdown",
   "metadata": {},
   "source": [
    "In this step, we develop customised model for sentiment analysis, based on available labelled data. The label data for this is obtained from kaggle website. Let us look at the data."
   ]
  },
  {
   "cell_type": "code",
   "execution_count": 42,
   "metadata": {},
   "outputs": [],
   "source": [
    "sentiments_data = pd.read_csv(r'Data/LabelledNewsData.csv',encoding = \"ISO-8859-1\")"
   ]
  },
  {
   "cell_type": "code",
   "execution_count": 43,
   "metadata": {},
   "outputs": [
    {
     "data": {
      "text/html": [
       "<div>\n",
       "<style scoped>\n",
       "    .dataframe tbody tr th:only-of-type {\n",
       "        vertical-align: middle;\n",
       "    }\n",
       "\n",
       "    .dataframe tbody tr th {\n",
       "        vertical-align: top;\n",
       "    }\n",
       "\n",
       "    .dataframe thead th {\n",
       "        text-align: right;\n",
       "    }\n",
       "</style>\n",
       "<table border=\"1\" class=\"dataframe\">\n",
       "  <thead>\n",
       "    <tr style=\"text-align: right;\">\n",
       "      <th></th>\n",
       "      <th>datetime</th>\n",
       "      <th>headline</th>\n",
       "      <th>ticker</th>\n",
       "      <th>sentiment</th>\n",
       "    </tr>\n",
       "  </thead>\n",
       "  <tbody>\n",
       "    <tr>\n",
       "      <th>0</th>\n",
       "      <td>1/16/2020 5:25</td>\n",
       "      <td>$MMM fell on hard times but could be set to re...</td>\n",
       "      <td>MMM</td>\n",
       "      <td>0</td>\n",
       "    </tr>\n",
       "  </tbody>\n",
       "</table>\n",
       "</div>"
      ],
      "text/plain": [
       "         datetime                                           headline ticker  \\\n",
       "0  1/16/2020 5:25  $MMM fell on hard times but could be set to re...    MMM   \n",
       "\n",
       "   sentiment  \n",
       "0          0  "
      ]
     },
     "execution_count": 43,
     "metadata": {},
     "output_type": "execute_result"
    }
   ],
   "source": [
    "sentiments_data.head(1)"
   ]
  },
  {
   "cell_type": "code",
   "execution_count": 44,
   "metadata": {},
   "outputs": [
    {
     "name": "stdout",
     "output_type": "stream",
     "text": [
      "9470 , 30\n"
     ]
    }
   ],
   "source": [
    "print(sentiments_data.shape[0],',', sentiments_data.ticker.unique().shape[0])"
   ]
  },
  {
   "cell_type": "markdown",
   "metadata": {},
   "source": [
    "The data has headlines for the news across 30 different stocks, with total 9470 rows, and has sentiments labelled 0 and 1. The headlines are already in almost cleaned. In order to run a supervised learning model, we first need to convert the news headlines into feature representation. "
   ]
  },
  {
   "cell_type": "code",
   "execution_count": 47,
   "metadata": {},
   "outputs": [
    {
     "data": {
      "text/plain": [
       "(9470, 96)"
      ]
     },
     "execution_count": 47,
     "metadata": {},
     "output_type": "execute_result"
    }
   ],
   "source": [
    "#word-embedding\n",
    "all_vectors = np.array([np.array([token.vector for token in nlp(s)]).mean(axis=0) for s in sentiments_data['headline']])\n",
    "all_vectors.shape"
   ]
  },
  {
   "cell_type": "markdown",
   "metadata": {},
   "source": [
    "Now that we have prepared the independent variable we train the classification model. We first divide the data into training set and test set and futher run the key classification models. "
   ]
  },
  {
   "cell_type": "code",
   "execution_count": 48,
   "metadata": {},
   "outputs": [],
   "source": [
    "# split out validation dataset for the end\n",
    "Y= sentiments_data[\"sentiment\"]\n",
    "X = all_vectors\n",
    "\n",
    "from sklearn.model_selection import train_test_split, KFold, cross_val_score, GridSearchCV\n",
    "validation_size = 0.3\n",
    "seed = 7\n",
    "X_train, X_test, Y_train, Y_test = train_test_split(X, Y, test_size=validation_size, random_state=seed)\n",
    "\n",
    "# test options for classification\n",
    "num_folds = 10\n",
    "seed = 7\n",
    "scoring = 'accuracy'\n",
    "\n",
    "# spot check the algorithms\n",
    "models = []\n",
    "#Neural Network\n",
    "models.append(('NN', MLPClassifier()))\n",
    "# Question: add a k-nearest neighbors model and compare it with the NN model\n",
    "models.append(('KNN', KNeighborsClassifier()))"
   ]
  },
  {
   "cell_type": "markdown",
   "metadata": {},
   "source": [
    "Running all the classification models"
   ]
  },
  {
   "cell_type": "code",
   "execution_count": 49,
   "metadata": {},
   "outputs": [
    {
     "name": "stdout",
     "output_type": "stream",
     "text": [
      "NN: 0.804947 (0.012799) 0.978277 0.800774\n",
      "[[ 934  266]\n",
      " [ 300 1341]]\n",
      "KNN: 0.745813 (0.021252) 0.842058 0.746920\n",
      "[[ 845  330]\n",
      " [ 389 1277]]\n"
     ]
    }
   ],
   "source": [
    "results = []\n",
    "names = []\n",
    "kfold_results = []\n",
    "test_results = []\n",
    "train_results = []\n",
    "for name, model in models:\n",
    "    kfold = KFold(n_splits=num_folds)\n",
    "    cv_results = cross_val_score(model, X_train, Y_train, cv=kfold, scoring=scoring)\n",
    "    results.append(cv_results)\n",
    "    names.append(name)\n",
    "   # Full Training period\n",
    "    res = model.fit(X_train, Y_train)\n",
    "    train_result = accuracy_score(res.predict(X_train), Y_train)\n",
    "    train_results.append(train_result)\n",
    "    \n",
    "    # Test results\n",
    "    test_result = accuracy_score(res.predict(X_test), Y_test)\n",
    "    test_results.append(test_result)    \n",
    "    \n",
    "    msg = \"%s: %f (%f) %f %f\" % (name, cv_results.mean(), cv_results.std(), train_result, test_result)\n",
    "    print(msg)\n",
    "    print(confusion_matrix(res.predict(X_test), Y_test))"
   ]
  },
  {
   "cell_type": "code",
   "execution_count": 50,
   "metadata": {},
   "outputs": [
    {
     "data": {
      "image/png": "[encoded data removed]",
      "text/plain": [
       "<Figure size 500x800 with 1 Axes>"
      ]
     },
     "metadata": {},
     "output_type": "display_data"
    }
   ],
   "source": [
    "from matplotlib import pyplot\n",
    "fig = pyplot.figure()\n",
    "ind = np.arange(len(names))  # the x locations for the groups\n",
    "width = 0.15  # the width of the bars\n",
    "fig.suptitle('Algorithm Performance')\n",
    "ax = fig.add_subplot(111)\n",
    "pyplot.bar(ind - width/2, train_results,  width=width, label='Train Error')\n",
    "pyplot.bar(ind + width/2, test_results, width=width, label='Test Error')\n",
    "fig.set_size_inches(5,8)\n",
    "pyplot.legend()\n",
    "ax.set_xticks(ind)\n",
    "ax.set_xticklabels(names)\n",
    "pyplot.show()"
   ]
  },
  {
   "cell_type": "markdown",
   "metadata": {},
   "source": [
    "### LSTM based model"
   ]
  },
  {
   "cell_type": "markdown",
   "metadata": {},
   "source": [
    "For NLP, RNN based model are preferred over other machine learning models as RNN stores the information for current feature as well neighboring features for prediction. "
   ]
  },
  {
   "cell_type": "code",
   "execution_count": 51,
   "metadata": {},
   "outputs": [],
   "source": [
    "### Create sequence\n",
    "vocabulary_size = 20000\n",
    "tokenizer = Tokenizer(num_words= vocabulary_size)\n",
    "tokenizer.fit_on_texts(sentiments_data['headline'])\n",
    "sequences = tokenizer.texts_to_sequences(sentiments_data['headline'])\n",
    "X_LSTM = pad_sequences(sequences, maxlen=50)"
   ]
  },
  {
   "cell_type": "markdown",
   "metadata": {},
   "source": [
    "Dividing the data into the training and test set. "
   ]
  },
  {
   "cell_type": "code",
   "execution_count": 52,
   "metadata": {},
   "outputs": [],
   "source": [
    "Y_LSTM = sentiments_data[\"sentiment\"]\n",
    "X_train_LSTM, X_test_LSTM, Y_train_LSTM, Y_test_LSTM = train_test_split(X_LSTM, \\\n",
    "                       Y_LSTM, test_size=validation_size, random_state=seed)"
   ]
  },
  {
   "cell_type": "markdown",
   "metadata": {},
   "source": [
    "In the following code snippet, we used Keras library to build a neural network classifier."
   ]
  },
  {
   "cell_type": "code",
   "execution_count": 53,
   "metadata": {},
   "outputs": [
    {
     "name": "stdout",
     "output_type": "stream",
     "text": [
      "Epoch 1/3\n",
      "125/125 [==============================] - 12s 91ms/step - loss: 0.3540 - accuracy: 0.8293 - val_loss: 0.1015 - val_accuracy: 0.9653\n",
      "Epoch 2/3\n",
      "125/125 [==============================] - 11s 89ms/step - loss: 0.0397 - accuracy: 0.9887 - val_loss: 0.0818 - val_accuracy: 0.9702\n",
      "Epoch 3/3\n",
      "125/125 [==============================] - 11s 88ms/step - loss: 0.0131 - accuracy: 0.9972 - val_loss: 0.0721 - val_accuracy: 0.9744\n"
     ]
    },
    {
     "data": {
      "text/plain": [
       "<keras.callbacks.History at 0x2f5d26b50>"
      ]
     },
     "execution_count": 53,
     "metadata": {},
     "output_type": "execute_result"
    }
   ],
   "source": [
    "from keras.wrappers.scikit_learn import KerasClassifier\n",
    "def create_model(input_length=50):\n",
    "    model = Sequential()\n",
    "    model.add(Embedding(20000, 300, input_length=50))\n",
    "    model.add(LSTM(100, dropout=0.2, recurrent_dropout=0.2))\n",
    "    model.add(Dense(1, activation='sigmoid'))\n",
    "    model.compile(loss='binary_crossentropy', optimizer='adam', metrics=['accuracy'])    \n",
    "    return model    \n",
    "model_LSTM = KerasClassifier(build_fn=create_model, epochs=3, verbose=1, validation_split=0.4)\n",
    "model_LSTM.fit(X_train_LSTM, Y_train_LSTM)"
   ]
  },
  {
   "cell_type": "code",
   "execution_count": 54,
   "metadata": {},
   "outputs": [
    {
     "name": "stdout",
     "output_type": "stream",
     "text": [
      "208/208 [==============================] - 3s 14ms/step\n",
      "89/89 [==============================] - 1s 15ms/step\n"
     ]
    }
   ],
   "source": [
    "train_result_LSTM = accuracy_score(model_LSTM.predict(X_train_LSTM), Y_train_LSTM)\n",
    "# Test results\n",
    "test_result_LSTM = accuracy_score(model_LSTM.predict(X_test_LSTM), Y_test_LSTM)"
   ]
  },
  {
   "cell_type": "markdown",
   "metadata": {},
   "source": [
    "Computing the accuracy and confusion metrics. "
   ]
  },
  {
   "cell_type": "code",
   "execution_count": 55,
   "metadata": {},
   "outputs": [
    {
     "name": "stdout",
     "output_type": "stream",
     "text": [
      "0.9889877809624378 0.9693769799366421\n"
     ]
    }
   ],
   "source": [
    "print(train_result_LSTM,test_result_LSTM)"
   ]
  },
  {
   "cell_type": "markdown",
   "metadata": {},
   "source": [
    "As expected, the LSTM model has the better performance in the test set as compared to all other models that we saw before. Let us use LSTM model for the computation of the sentiments in the data. "
   ]
  },
  {
   "cell_type": "code",
   "execution_count": 56,
   "metadata": {},
   "outputs": [],
   "source": [
    "sequences_LSTM = tokenizer.texts_to_sequences(data_df['headline'])\n",
    "X_LSTM = pad_sequences(sequences_LSTM, maxlen=50)"
   ]
  },
  {
   "cell_type": "code",
   "execution_count": 57,
   "metadata": {},
   "outputs": [
    {
     "name": "stdout",
     "output_type": "stream",
     "text": [
      "77/77 [==============================] - 1s 15ms/step\n"
     ]
    }
   ],
   "source": [
    "Y_LSTM = model_LSTM.predict(X_LSTM)"
   ]
  },
  {
   "cell_type": "code",
   "execution_count": 58,
   "metadata": {},
   "outputs": [],
   "source": [
    "data_df['sentiment_LSTM'] = Y_LSTM "
   ]
  },
  {
   "cell_type": "code",
   "execution_count": 59,
   "metadata": {},
   "outputs": [
    {
     "name": "stdout",
     "output_type": "stream",
     "text": [
      "0.13473576054908334\n"
     ]
    }
   ],
   "source": [
    "corrlation = data_df['eventRet'].corr(data_df['sentiment_LSTM'])\n",
    "print(corrlation)"
   ]
  },
  {
   "cell_type": "markdown",
   "metadata": {},
   "source": [
    "<a id='5'></a>\n",
    "# 5. Model Evaluation- Building a Trading Strategy"
   ]
  },
  {
   "cell_type": "markdown",
   "metadata": {},
   "source": [
    "The sentiment data can be used in different ways for the trading strategy. Sentiment scores can be used as a directional signal and ideally create a long-short portfolio, by buying the stocks with positive score and selling the stocks with negative score. The sentiments can also be used as additional features over and above other features(such as correlated stocks, technical indicators) in a supervised learning model to predict the price or come up with a trading strategy. "
   ]
  },
  {
   "cell_type": "markdown",
   "metadata": {},
   "source": [
    "In the trading strategy in this case study we buy and sell stock as per the current stock sentiments : \n",
    "* Buy a stock when the change in sentiment score (Current sentiment score - previous sentiment score) is greater than .5 and sell a stock when the change in sentiment score is less than -.5.\n",
    "* Additionally, we check for 15 days moving average while buying and selling and buy or sell in a unit of 100. \n",
    "\n",
    "Obviously, there can be many ways to create the trading strategy based in sentiments, by varying the threshold, or changing the number of units based on the initial cash available.\n",
    "\n",
    "We use lexicon based sentiments for the trading strategy.\n"
   ]
  },
  {
   "cell_type": "markdown",
   "metadata": {},
   "source": [
    "<a id='5.1'></a>\n",
    "## 5.1. Setting up the strategy \n",
    "Here we use backtrader which is a Python based API for writing and backtesting trading strategy. Backtrader allows you to focus on writing reusable trading strategies, indicators and analyzers instead of having to spend time building infrastructure. we have a convenient framework to backtest and write our trading strategy. We used the Quickstart code in the docs (i.e. Refer to https://www.backtrader.com/docu/quickstart/quickstart/) as a base and modified it to include the sentiment scores.\n",
    "\n",
    "We imlement a simple strategy to buy if the previous day’s sentiment score increases by 0.5 from the last day and sell if it decreases by 0.5.\n",
    "\n",
    "\n",
    "The following function contains two classes: \n",
    "* Sentiment:\n",
    "* SentimentStrat: The \"next\" function of this class implements the actual trading strategy. \n"
   ]
  },
  {
   "cell_type": "code",
   "execution_count": 60,
   "metadata": {},
   "outputs": [],
   "source": [
    "data_df = pd.read_csv(r'Data/Step4_DataWithSentimentsResults.csv', sep='|')\n",
    "data_df = data_df[data_df['ticker'].isin(tickers)]"
   ]
  },
  {
   "cell_type": "code",
   "execution_count": 61,
   "metadata": {},
   "outputs": [],
   "source": [
    "import backtrader as bt\n",
    "import backtrader.indicators as btind\n",
    "import backtrader.analyzers as btanalyzers\n",
    "\n",
    "class Sentiment(bt.Indicator):\n",
    "    lines = ('sentiment',)\n",
    "    plotinfo = dict(\n",
    "        plotymargin=0.5,\n",
    "        plothlines=[0],\n",
    "        plotyticks=[1.0, 0, -1.0])\n",
    "    \n",
    "    def next(self):\n",
    "        self.sentiment = 0.0\n",
    "        self.date = self.data.datetime\n",
    "        date = bt.num2date(self.date[0]).date()\n",
    "        prev_sentiment = self.sentiment        \n",
    "        if date in date_sentiment:\n",
    "            self.sentiment = date_sentiment[date]\n",
    "        self.lines.sentiment[0] = self.sentiment\n",
    "\n",
    "\n",
    "class SentimentStrat(bt.Strategy):\n",
    "    params = (\n",
    "        ('period', 15),\n",
    "        ('printlog', True),\n",
    "    )\n",
    "\n",
    "    def log(self, txt, dt=None, doprint=False):\n",
    "        ''' Logging function for this strategy'''\n",
    "        if self.params.printlog or doprint:\n",
    "            dt = dt or self.datas[0].datetime.date(0)\n",
    "            print('%s, %s' % (dt.isoformat(), txt))\n",
    "\n",
    "    def __init__(self):\n",
    "        # Keep a reference to the \"close\" line in the data[0] dataseries\n",
    "        self.dataclose = self.datas[0].close\n",
    "        # Keep track of pending orders\n",
    "        self.order = None\n",
    "        self.buyprice = None\n",
    "        self.buycomm = None\n",
    "        self.sma = bt.indicators.SimpleMovingAverage(\n",
    "            self.datas[0], period=self.params.period)\n",
    "        self.date = self.data.datetime\n",
    "        self.sentiment = None\n",
    "        Sentiment(self.data)\n",
    "        self.plotinfo.plot = False\n",
    "        \n",
    "        \n",
    "    def notify_order(self, order):\n",
    "        if order.status in [order.Submitted, order.Accepted]:\n",
    "            # Buy/Sell order submitted/accepted to/by broker - Nothing to do\n",
    "            return\n",
    "        \n",
    "        # Check if an order has been completed\n",
    "        # Attention: broker could reject order if not enough cash\n",
    "        if order.status in [order.Completed]:\n",
    "            if order.isbuy():\n",
    "                self.log(\n",
    "                    'BUY EXECUTED, Price: %.2f, Cost: %.2f, Comm %.2f' %\n",
    "                    (order.executed.price,\n",
    "                     order.executed.value,\n",
    "                     order.executed.comm))\n",
    "                self.buyprice = order.executed.price\n",
    "                self.buycomm = order.executed.comm\n",
    "            else:  # Sell\n",
    "                self.log('SELL EXECUTED, Price: %.2f, Cost: %.2f, Comm %.2f' %\n",
    "                         (order.executed.price,\n",
    "                          order.executed.value,\n",
    "                          order.executed.comm))\n",
    "                \n",
    "            self.bar_executed = len(self)     \n",
    "            \n",
    "        elif order.status in [order.Canceled, order.Margin, order.Rejected]:\n",
    "            self.log('Order Canceled/Margin/Rejected')\n",
    "            \n",
    "        # Write down: no pending order\n",
    "        self.order = None\n",
    "        \n",
    "    def notify_trade(self, trade):\n",
    "        if not trade.isclosed:\n",
    "            return\n",
    "\n",
    "        self.log('OPERATION PROFIT, GROSS %.2f, NET %.2f' %\n",
    "                 (trade.pnl, trade.pnlcomm))\n",
    "    \n",
    "    ### Main Strat ###\n",
    "    def next(self):        \n",
    "        date = bt.num2date(self.date[0]).date()\n",
    "        prev_sentiment = self.sentiment\n",
    "        if date in date_sentiment:\n",
    "            self.sentiment = date_sentiment[date]\n",
    "        \n",
    "        # Check if an order is pending. if yes, we cannot send a 2nd one\n",
    "        if self.order:\n",
    "            return       \n",
    "        # If not in the market and previous sentiment not none\n",
    "        if not self.position and prev_sentiment:\n",
    "            # buy if current close more than sma AND sentiment increased by >= 0.5\n",
    "            if self.dataclose[0] > self.sma[0] and self.sentiment - prev_sentiment >= 0.5:\n",
    "                self.log('Previous Sentiment %.2f, New Sentiment %.2f BUY CREATE, %.2f' % (prev_sentiment, self.sentiment, self.dataclose[0]))                \n",
    "                self.order = self.buy()\n",
    "                \n",
    "        # Already in the market and previous sentiment not none\n",
    "        elif prev_sentiment:\n",
    "            # sell if current close less than sma AND sentiment decreased by >= 0.5\n",
    "            if self.dataclose[0] < self.sma[0] and self.sentiment - prev_sentiment <= -0.5:\n",
    "                self.log('Previous Sentiment %.2f, New Sentiment %.2f SELL CREATE, %.2f' % (prev_sentiment, self.sentiment, self.dataclose[0]))                \n",
    "                self.order = self.sell()\n",
    "\n",
    "    def stop(self):\n",
    "        self.log('(MA Period %2d) Ending Value %.2f' %\n",
    "                 (self.params.period, self.broker.getvalue()), doprint=True)   \n",
    "\n"
   ]
  },
  {
   "cell_type": "markdown",
   "metadata": {},
   "source": [
    "### Function for running the trading strategy"
   ]
  },
  {
   "cell_type": "markdown",
   "metadata": {},
   "source": [
    "Now, we write a generic function to run the strategy for any stock. We specified the “ticker” stock feeds to be pulled from Yahoo Finance, set an initial amount of $100,000, a fixed size of 100 lots per trade."
   ]
  },
  {
   "cell_type": "code",
   "execution_count": 62,
   "metadata": {},
   "outputs": [],
   "source": [
    "def run_strategy(ticker, start, end):   \n",
    "    ticker = yf.Ticker(ticker)\n",
    "    df_ticker = ticker.history(start = start, end = end)\n",
    "    \n",
    "    cerebro = bt.Cerebro()\n",
    "    # Add the data\n",
    "    cerebro.addstrategy(SentimentStrat)        \n",
    "    data = bt.feeds.PandasData(dataname=df_ticker)\n",
    "    cerebro.adddata(data)  \n",
    "    start = 100000.0\n",
    "    cerebro.broker.setcash(start)   \n",
    "    cerebro.addsizer(bt.sizers.FixedSize, stake=100)\n",
    "    print('Starting Portfolio Value: %.2f' % start)    \n",
    "    cerebro.run() \n",
    "#     cerebro.plot(volume=False, iplot=True, plotname= ticker)\n",
    "    end = cerebro.broker.getvalue()\n",
    "    print('Start Portfolio value: %.2f\\nFinal Portfolio Value: %.2f\\nProfit: %.2f\\n' \\\n",
    "          % (start, end, end - start))\n",
    "    return float(df_ticker['Close'][0]), (end - start)"
   ]
  },
  {
   "cell_type": "markdown",
   "metadata": {},
   "source": [
    "<a id='5.2'></a>\n",
    "## 5.2. Results for Individual Stocks"
   ]
  },
  {
   "cell_type": "markdown",
   "metadata": {},
   "source": [
    "First running the strategy for google"
   ]
  },
  {
   "cell_type": "code",
   "execution_count": 63,
   "metadata": {},
   "outputs": [
    {
     "name": "stdout",
     "output_type": "stream",
     "text": [
      "Starting Portfolio Value: 100000.00\n",
      "2012-04-12, Previous Sentiment 0.24, New Sentiment 0.80 BUY CREATE, 16.21\n",
      "2012-04-13, BUY EXECUTED, Price: 16.13, Cost: 1612.83, Comm 0.00\n",
      "2012-10-18, Previous Sentiment 0.98, New Sentiment 0.08 SELL CREATE, 17.31\n",
      "2012-10-19, SELL EXECUTED, Price: 17.57, Cost: 1612.83, Comm 0.00\n",
      "2012-10-19, OPERATION PROFIT, GROSS 144.53, NET 144.53\n",
      "2013-01-10, Previous Sentiment 0.08, New Sentiment 0.80 BUY CREATE, 18.47\n",
      "2013-01-11, BUY EXECUTED, Price: 18.48, Cost: 1848.07, Comm 0.00\n",
      "2014-07-17, Previous Sentiment 0.73, New Sentiment -0.22 SELL CREATE, 28.61\n",
      "2014-07-18, SELL EXECUTED, Price: 29.57, Cost: 1848.07, Comm 0.00\n",
      "2014-07-18, OPERATION PROFIT, GROSS 1108.81, NET 1108.81\n",
      "2014-07-18, Previous Sentiment -0.22, New Sentiment 0.77 BUY CREATE, 29.67\n",
      "2014-07-21, BUY EXECUTED, Price: 29.51, Cost: 2950.65, Comm 0.00\n",
      "2014-09-12, Previous Sentiment 0.66, New Sentiment -0.05 SELL CREATE, 28.70\n",
      "2014-09-15, SELL EXECUTED, Price: 28.57, Cost: 2950.65, Comm 0.00\n",
      "2014-09-15, OPERATION PROFIT, GROSS -93.79, NET -93.79\n",
      "2015-07-17, Previous Sentiment 0.01, New Sentiment 0.90 BUY CREATE, 33.65\n",
      "2015-07-20, BUY EXECUTED, Price: 32.96, Cost: 3296.20, Comm 0.00\n",
      "2015-08-24, Previous Sentiment 0.91, New Sentiment -0.51 SELL CREATE, 29.48\n",
      "2015-08-25, SELL EXECUTED, Price: 30.75, Cost: 3296.20, Comm 0.00\n",
      "2015-08-25, OPERATION PROFIT, GROSS -221.65, NET -221.65\n",
      "2015-10-22, Previous Sentiment -0.79, New Sentiment 0.73 BUY CREATE, 32.59\n",
      "2015-10-23, BUY EXECUTED, Price: 36.38, Cost: 3637.50, Comm 0.00\n",
      "2017-09-25, Previous Sentiment 0.69, New Sentiment 0.14 SELL CREATE, 46.05\n",
      "2017-09-26, SELL EXECUTED, Price: 46.19, Cost: 3637.50, Comm 0.00\n",
      "2017-09-26, OPERATION PROFIT, GROSS 981.10, NET 981.10\n",
      "2017-10-27, Previous Sentiment 0.01, New Sentiment 0.60 BUY CREATE, 50.96\n",
      "2017-10-30, BUY EXECUTED, Price: 50.70, Cost: 5070.00, Comm 0.00\n",
      "2018-04-09, Previous Sentiment 0.54, New Sentiment -0.45 SELL CREATE, 50.77\n",
      "2018-04-10, SELL EXECUTED, Price: 51.32, Cost: 5070.00, Comm 0.00\n",
      "2018-04-10, OPERATION PROFIT, GROSS 62.20, NET 62.20\n",
      "2018-04-23, Previous Sentiment 0.03, New Sentiment 0.87 BUY CREATE, 53.37\n",
      "2018-04-24, BUY EXECUTED, Price: 52.60, Cost: 5260.00, Comm 0.00\n",
      "2018-09-04, Previous Sentiment 0.76, New Sentiment 0.01 SELL CREATE, 59.85\n",
      "2018-09-05, SELL EXECUTED, Price: 59.69, Cost: 5260.00, Comm 0.00\n",
      "2018-09-05, OPERATION PROFIT, GROSS 709.00, NET 709.00\n",
      "2018-10-01, Previous Sentiment 0.01, New Sentiment 0.88 BUY CREATE, 59.77\n",
      "2018-10-02, BUY EXECUTED, Price: 59.55, Cost: 5954.80, Comm 0.00\n",
      "2018-10-05, Previous Sentiment 0.88, New Sentiment 0.31 SELL CREATE, 57.87\n",
      "2018-10-08, SELL EXECUTED, Price: 57.51, Cost: 5954.80, Comm 0.00\n",
      "2018-10-08, OPERATION PROFIT, GROSS -204.25, NET -204.25\n",
      "2018-12-11, (MA Period 15) Ending Value 102485.95\n",
      "Start Portfolio value: 100000.00\n",
      "Final Portfolio Value: 102485.95\n",
      "Profit: 2485.95\n",
      "\n"
     ]
    },
    {
     "data": {
      "text/plain": [
       "(16.573129653930664, 2485.9493255615234)"
      ]
     },
     "execution_count": 63,
     "metadata": {},
     "output_type": "execute_result"
    }
   ],
   "source": [
    "ticker = 'GOOG'\n",
    "date_sentiment=data_df[data_df['ticker'].isin([ticker])]\n",
    "date_sentiment=date_sentiment[['date','sentiment_lex']]\n",
    "date_sentiment['date']=pd.to_datetime(date_sentiment['date'], format='%Y-%m-%d').dt.date\n",
    "date_sentiment=date_sentiment.set_index('date')['sentiment_lex']\n",
    "date_sentiment=date_sentiment.to_dict()\n",
    "run_strategy(ticker, start = '2012-01-01', end = '2018-12-12')\n",
    "# running the strategy for APPL. Hint: create a new ticker variable\n",
    "# ticker = 'AAPL'"
   ]
  },
  {
   "cell_type": "markdown",
   "metadata": {},
   "source": [
    "The results show an overall profit of 49719.00."
   ]
  },
  {
   "cell_type": "markdown",
   "metadata": {},
   "source": [
    "Now we choose one of the days on which buy was triggered and we look at the news on that data and previous day."
   ]
  },
  {
   "cell_type": "code",
   "execution_count": 64,
   "metadata": {},
   "outputs": [
    {
     "name": "stdout",
     "output_type": "stream",
     "text": [
      "Current News: [\"Axiom Securities has upgraded Google (GOOG +13.4%, GOOGL +14.8%) to Buy following the company's Q2 beat and investor-pleasing comments about spending discipline, potential capital returns, and YouTube/mobile growth. MKM has launched coverage at Buy, and plenty of other firms have hiked their targets. Google's market cap is now above $450B.\"] \n",
      "\n",
      " Previous News: [\"While Google's (GOOG, GOOGL) Q2 revenue slightly missed estimates when factoring traffic acquisitions costs (TAC), its ex-TAC revenue of $14.35B was slightly above a $14.3B consensus. The reason: TAC fell to 21% of ad revenue from Q1's 22% and Q2 2014's 23%. That also, of course, helped EPS beat estimates.\", 'Google (NASDAQ:GOOG): Q2 EPS of $6.99 beats by $0.28.']\n"
     ]
    }
   ],
   "source": [
    "GOOG_ticker= data_df[data_df['ticker'].isin([ticker])]\n",
    "New= list(GOOG_ticker[GOOG_ticker['date'] ==  '2015-07-17']['headline'])\n",
    "Old= list(GOOG_ticker[GOOG_ticker['date'] ==  '2015-07-16']['headline'])\n",
    "print(\"Current News:\",New,\"\\n\\n\",\"Previous News:\", Old)"
   ]
  },
  {
   "cell_type": "code",
   "execution_count": null,
   "metadata": {},
   "outputs": [],
   "source": []
  }
 ],
 "metadata": {
  "_change_revision": 206,
  "_is_fork": false,
  "kernelspec": {
   "display_name": "Python 3 (ipykernel)",
   "language": "python",
   "name": "python3"
  },
  "language_info": {
   "codemirror_mode": {
    "name": "ipython",
    "version": 3
   },
   "file_extension": ".py",
   "mimetype": "text/x-python",
   "name": "python",
   "nbconvert_exporter": "python",
   "pygments_lexer": "ipython3",
   "version": "3.9.6"
  }
 },
 "nbformat": 4,
 "nbformat_minor": 4
}
