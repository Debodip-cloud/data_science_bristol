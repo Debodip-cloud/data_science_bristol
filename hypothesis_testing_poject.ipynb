{
 "cells": [
  {
   "cell_type": "markdown",
   "id": "b09cbbb6-31fa-4543-95bc-3a36fd97cadb",
   "metadata": {
    "tags": []
   },
   "source": [
    "# Week 5 Activity: Hypothesis Testing\n"
   ]
  },
  {
   "cell_type": "markdown",
   "id": "ab527114-e72e-4ca5-84f3-9b000a88f2e5",
   "metadata": {
    "tags": []
   },
   "source": [
    "This week you will be using python to visualise some data and perform hypothesis testing. Please refer to lecture __W5.L1: Empirical Methods__.\n",
    "\n",
    "For further reading, I suggest the following reference book, available online via University library:\n",
    "+ Peter Bruce, Andrew Bruce, Peter Gedeck (2020), Practical Statistics for Data Scientists: 50+ Essential Concepts Using R and Python. \n",
    "<br>Link: https://bris.on.worldcat.org/oclc/1151182591"
   ]
  },
  {
   "cell_type": "markdown",
   "id": "e0893e0e-6eb8-44b2-ab25-0ae54b11737c",
   "metadata": {
    "tags": []
   },
   "source": [
    "### Instructions: \n",
    "\n",
    "In today's session, you will be visualising and analysing two datasets. These data are stored in the following files:\n",
    "+ `w5.data/data1.csv`\n",
    "+ `w5.data/data2.csv`\n",
    "\n",
    "Each dataset contains a sample of values measured from a population subject to different conditions. We consider these conditions in the abstract and name them condition \"a\", \"b\", etc. However, if you want a more concrete example, you could consider that these data are empirical outcomes from your market experiments. For instance, condition \"a\" could be \"markets containing ZIC traders only\" and condition \"b\" could be \"markets containing ZIP traders only\". Then, each value is mean profit per trader; and each row is the result of one experimental trail. \n",
    "\n",
    "Your task is to do the following:\n",
    "1. select *one* of the datasets\n",
    "2. summarise the dataset you have chosen: number of columns (i.e., number of conditions), number of instances (i.e., number of rows/trials), mean and standard deviation of each column (i.e., mean and standard deviation of each condition)\n",
    "3. use a staticial test to determine whether data are normally distributed (e.g., Shapiro-Wilk or Kolmogoroc-Smirnov)\n",
    "4. visualise the dataset you have chosen to understand the distribution of values under each condition. Consider using scatter plot, histogram, box-and-whisker plot, violin plot, etc.\n",
    "5. use a statistical hypothesis test to determine whether there is a significant statistical difference between conditions in the dataset (e.g., t-test, ANOVA, Mann-Whitney, Kruskal-Wallis).\n",
    "\n",
    "If you finish with time remaining, then go back and repeat the above steps using the *other* data set. "
   ]
  },
  {
   "cell_type": "markdown",
   "id": "cc52b442-9e15-4c13-8f8e-7452f552ecf2",
   "metadata": {
    "tags": []
   },
   "source": [
    "### Getting started. Importing required python libraries"
   ]
  },
  {
   "cell_type": "markdown",
   "id": "56ccb585-e72f-44d3-bf7a-c867a995ab9f",
   "metadata": {},
   "source": [
    "We will be using the following useful libraries to help us perform statistical analysis:\n",
    "\n",
    "+ `SciPy`: Fundamental algorithms for scientific computing in Python - https://scipy.org\n",
    "+ `Seaborn`: Statistical data visualisation - https://seaborn.pydata.org\n",
    "+ `matplotlib`: visualisation with python - https://matplotlib.org\n",
    "+ `statsmodels`: Functions for estimation of different statistical models - https://www.statsmodels.org/stable/index.html\n",
    "+ `pandas`: For handling data - https://pandas.pydata.org/docs/getting_started/index.html\n",
    "\n",
    "Let's begin by importing these python libraries for use today."
   ]
  },
  {
   "cell_type": "code",
   "execution_count": 1,
   "id": "9dbd63a9-432e-4d2b-981c-978aa5890b8c",
   "metadata": {
    "tags": []
   },
   "outputs": [],
   "source": [
    "# import some useful libraries to help us wrangle data, \n",
    "# plot data, and perform statistial analysis \n",
    "import scipy as sp\n",
    "from scipy import stats\n",
    "import seaborn as sns \n",
    "import matplotlib.pyplot as plt \n",
    "import statsmodels.api as sm\n",
    "import pandas as pd"
   ]
  },
  {
   "cell_type": "markdown",
   "id": "7196d067-788f-4952-a96e-6d61acc97dc4",
   "metadata": {},
   "source": [
    "### 1. Read in data\n",
    "\n",
    "Select one dataset to work with. Read the dataset from the chosen csv file.\n",
    "\n",
    "> Hint: Use `pandas` library to read a csv file into a pandas dataframe <br>\n",
    "> https://pandas.pydata.org/docs/reference/api/pandas.read_csv.html\n",
    "\n",
    "Then show the top rows of the dataframe..."
   ]
  },
  {
   "cell_type": "code",
   "execution_count": 2,
   "id": "44ac3893-7b8e-429e-a17f-de9841f1e5ec",
   "metadata": {
    "tags": []
   },
   "outputs": [],
   "source": [
    "# Read in data from csv file using pandas\n",
    "\n",
    "# Uncomment the following as required\n",
    "\n",
    "# df = pd.read_csv('w5.data/data1.csv') # read data1 to dataframe\n",
    "# df = pd.read_csv('w5.data/data2.csv') # read data2 to dataframe\n",
    "\n",
    "# df.head() # show top rows of dataframe"
   ]
  },
  {
   "cell_type": "markdown",
   "id": "6cf713b1-e6c1-41fc-a3ce-b290441c07bd",
   "metadata": {},
   "source": [
    "### 2. Summarise the data\n",
    "\n",
    "Briefly summarise the dataset. Find the following:\n",
    "+ Number and name of conditions\n",
    "+ Number of instances, n, of each condition\n",
    "+ Mean and standard deviation of values for each condition\n",
    "\n",
    "One approach is to open the raw data in the csv file and use Excel to calculate these values. Alternatively, you can use python code:\n"
   ]
  },
  {
   "cell_type": "code",
   "execution_count": 3,
   "id": "65b14aca-d61b-4ee5-8e73-4ad00e6817e6",
   "metadata": {},
   "outputs": [],
   "source": [
    "# Enter code to print the following values for each condition:\n",
    "# 1. number of values (n)\n",
    "# 2. mean of values (mean)\n",
    "# 3. standard deviation of values (std)\n"
   ]
  },
  {
   "cell_type": "markdown",
   "id": "e19b0dc0-3215-4b60-b943-5f0fbb7a18f7",
   "metadata": {},
   "source": [
    "What do these summary values tell us? Are the profits for all conditions the same? Do some conditions lead to higher profits? Is it possible for us to tell from these values alone?"
   ]
  },
  {
   "cell_type": "markdown",
   "id": "9b44240f-14f1-474b-b0a7-88e0d180d56d",
   "metadata": {},
   "source": [
    "### 3. Determine whether data are normally distributed\n",
    "\n",
    "Summary statistics, in isolation, only tell us so much. If we want to accurately analyse these data we need to understand their distributions. In particular, if we want to perform correct hypothesis testing, we must first determine whether the data is (approximately) normally distributed.\n",
    "\n",
    "The __Shaprio-Wilk__ test and the __Kolmogorov-Smirnov__ test for goodness of fit can help us here: \n",
    "\n",
    "> The Shaprio-Wilk test tests the null hypothesiss that the data was drawn from a normal distribution. \n",
    "> `stats.shapiro(x)` returns tuple (A,B) where A = test statistic and B = p-value for the hypothesis test. \n",
    "> If p-value < 0.05, we reject the null hypothesis, i.e., the data is not drawn from an (approximately) normal distribution \n",
    "> If p-value >= 0.05 we cannot reject the null hypothesis that the data is drawn from an approximately normal distribution.\n",
    "\n",
    "> The Kolmogorov-Smirnov test tests for goodness of fit to a standard normal distribution. \n",
    "> To use this test, it is necessary to first normalise our data (to have mean=0 and variance=1).\n",
    "> To normalise: for each value, subtract the mean, then divide by the standard deviation <br>\n",
    "\n",
    "There are methods in the `stats` package in `scipy` that enable us to perform these tests:\n",
    "\n",
    "+ Shapiro-Wilk test for normality: https://docs.scipy.org/doc/scipy/reference/generated/scipy.stats.shapiro.html <br>\n",
    "+ Kolmogorov-Smirnov test for goodness of fit: https://docs.scipy.org/doc/scipy/reference/generated/scipy.stats.kstest.html#scipy.stats.kstest\n",
    "\n",
    "Decide which test you will use, then perform the test on each column of your data to see if the data are approximately normally distributed for each condition. What is the p-value for each column? Using this p-value, determine whether your data are (approximately) normally distributed. "
   ]
  },
  {
   "cell_type": "code",
   "execution_count": 4,
   "id": "5f6b68a2-af9b-4e26-851e-3681058614a3",
   "metadata": {},
   "outputs": [],
   "source": [
    "# Enter your code to determine whether your data is \n",
    "# (approximately) normally distributed\n",
    "\n",
    "# Use Shapiro-Wilk test for normality, or \n",
    "# the Kolmogorov-Smirnov test for goodness of fit\n",
    "\n",
    "# If you are using the Kolmogorov-Smirnov test, you should \n",
    "# first normalise your data to have mean=0 and standard dev=1\n"
   ]
  },
  {
   "cell_type": "markdown",
   "id": "7a3bdbca-4536-408b-8481-b323fd4a3688",
   "metadata": {},
   "source": [
    "Using the p-values from your test, above, you can now determine if your data is (approximately) normally distributed. Make a note as you will use this information later."
   ]
  },
  {
   "cell_type": "markdown",
   "id": "84d77142-15ef-4775-abf0-349c54e2e8f9",
   "metadata": {
    "tags": []
   },
   "source": [
    "### 4. Visualise the data\n",
    "\n",
    "You have determined if your data is normally distributed, or not, using a statistical test. However, it is good practice to always visualise your data. \n",
    "\n",
    "#### Visualising normality\n",
    "\n",
    "Visualisations can also help us to determine the normality of data: are the data unimodal, roughly symmetric, tails not too heavy?\n",
    "\n",
    "Often, to best understand your data, it is a good idea to visualise it in different ways. \n",
    "\n",
    "Here are some common approaches for visualising (lack of) normality in data:\n",
    "\n",
    "> A __QQ plot__ (formally, a quantile-quantile plot) can be used to visually compare data with a normal distribution. \n",
    "> You can use `statsmodels` to create a QQ plot. <br>\n",
    "> https://www.statsmodels.org/dev/generated/statsmodels.graphics.gofplots.qqplot.html <br>\n",
    "> The QQ plot plots data from the distribtion against a normal distribution. \n",
    "> If the sample data falls close to the red line (showing x=y), then the data is approximately normal. \n",
    "> Note that you should normalise your data first (to have mean 0 and standard deviation 1). <br>\n",
    "\n",
    "> You can plot your distributions using a histogram or kernel density estimation (KDE) to see the distribution shape. \n",
    "> If the data is roughly bell-shaped you have (approximately) normal distribution.\n",
    "> `Seaborn` is a useful library for plotting these graphs: <br> \n",
    "> + A __histogram__ is a classic visualization tool that represents the distribution of \n",
    "> one or more variables by counting the number of observations that fall within discrete bins: <br>\n",
    "> https://seaborn.pydata.org/generated/seaborn.histplot.html\n",
    "> + __Kernel density estimation__ is useful for plotting multiple distributions on one set of axes: <br> \n",
    "> https://seaborn.pydata.org/generated/seaborn.kdeplot.html#seaborn.kdeplot\n",
    "\n",
    "Now try to visualise your data using a QQ plot and/or histograms and/or a KDE plot.\n"
   ]
  },
  {
   "cell_type": "code",
   "execution_count": 5,
   "id": "44e5c33c-cb4d-43a7-a9ae-5ceeb1d3168c",
   "metadata": {},
   "outputs": [],
   "source": [
    "# Enter your code to visualise your data\n",
    "\n",
    "# Use a QQ-plot, or histogram, or KDE\n",
    "\n",
    "# If you are using a QQ-plot, you should first normalise \n",
    "# your data to have mean zero and standard deviation 1"
   ]
  },
  {
   "cell_type": "markdown",
   "id": "af52b882-da76-45fe-9c95-a74fe483a01e",
   "metadata": {},
   "source": [
    "From your plots, does it look like your data is approximately normal? \n",
    "\n",
    "How does this compare with your finding from your normality test performed in part 3? "
   ]
  },
  {
   "cell_type": "markdown",
   "id": "e0409810-dd61-429d-a6e9-c09f2ce38b86",
   "metadata": {
    "tags": []
   },
   "source": [
    "#### Comparing distributions visually \n",
    "\n",
    "The data contains results of experiments under multiple conditions. We can use visualisations to compare the results of each condition. \n",
    "\n",
    "Attempt the following three approaches to visually compare your data:\n",
    "+ Create a __barplot__ of mean and confidence interval: https://seaborn.pydata.org/generated/seaborn.barplot.html\n",
    "+ Create a __box plot__ (or box-and-whisker plot) showing inter-quartile ranges: https://seaborn.pydata.org/generated/seaborn.boxplot.html\n",
    "+ Create a __violin plot__: https://seaborn.pydata.org/generated/seaborn.violinplot.html"
   ]
  },
  {
   "cell_type": "code",
   "execution_count": 6,
   "id": "8b714408-e759-4ed6-b299-97b50ab3d634",
   "metadata": {},
   "outputs": [],
   "source": [
    "# Enter your code here to generate a bar plot"
   ]
  },
  {
   "cell_type": "code",
   "execution_count": 7,
   "id": "8d8d20bf-ccc4-47e9-b145-247a060d3ac7",
   "metadata": {},
   "outputs": [],
   "source": [
    "# Enter your code here to generate a box plot"
   ]
  },
  {
   "cell_type": "code",
   "execution_count": 8,
   "id": "3f88536b-b3e2-411b-923c-508bbaf42287",
   "metadata": {},
   "outputs": [],
   "source": [
    "# Enter your code here to generate a violin plot"
   ]
  },
  {
   "cell_type": "markdown",
   "id": "a9dedeb4-c6fc-44b7-8a88-10645b93d640",
   "metadata": {},
   "source": [
    "Which visual presents the most information? Which presents the least?"
   ]
  },
  {
   "cell_type": "markdown",
   "id": "9b6c5fe4-d9f7-427d-82b0-e6351c3aa1c9",
   "metadata": {},
   "source": [
    "### 5. Hypothesis testing\n",
    "\n",
    "So, now you have determind whether or not the data is normal and you have visualised the comparative distributions. You now have a good idea about whether profits appear to be similar under all conditions, or whether some conditions appear to lead to grater profits.\n",
    "\n",
    "However, to know for sure whether a change in condition results in a change in profits, you need to perform a statistical test.\n",
    "\n",
    "First, you must set up a null hypothsis. You then perform a statistical test to generate a p-value. If p-value < 0.05 then you can reject the null hypothsis. \n",
    "\n",
    "Depending on your data, consider one of the following four hypothesis tests:\n",
    "\n",
    "+ __t-test__: https://docs.scipy.org/doc/scipy/reference/generated/scipy.stats.ttest_ind.html\n",
    "+ __ANOVA__: https://docs.scipy.org/doc/scipy/reference/generated/scipy.stats.f_oneway.html\n",
    "+ __Mann-Whitney__: https://docs.scipy.org/doc/scipy/reference/generated/scipy.stats.mannwhitneyu.html.\n",
    "+ __Kruskal-Wallis__: https://docs.scipy.org/doc/scipy/reference/generated/scipy.stats.kruskal.html#scipy.stats.kruskal. \n",
    "\n",
    "Decide which test is appropriate and then write code to perform the test, below.\n"
   ]
  },
  {
   "cell_type": "code",
   "execution_count": 9,
   "id": "a713dab1-226d-456d-ac0f-81c219c09773",
   "metadata": {},
   "outputs": [],
   "source": [
    "# Enter your code here to perform your statistical hypothesis test"
   ]
  },
  {
   "cell_type": "markdown",
   "id": "e29351ce-b22f-4119-957c-6764d2961d62",
   "metadata": {},
   "source": [
    "From the result of your hypothesis test, what can you say about the data?"
   ]
  },
  {
   "cell_type": "markdown",
   "id": "00c576de-7b24-4df5-a926-8af46f2a3e88",
   "metadata": {},
   "source": [
    "### Explore\n",
    "\n",
    "If you have completed the above for one dataset, now go back to the start and attempt it with the other dataset.\n",
    "\n",
    "If you have completed for both datasets, now try some other methods and read around the subject more."
   ]
  },
  {
   "cell_type": "markdown",
   "id": "42e816b2-1139-4964-8f5c-ddbb2b7e4928",
   "metadata": {},
   "source": [
    "[END OF DOCUMENT]"
   ]
  }
 ],
 "metadata": {
  "kernelspec": {
   "display_name": "Python 3 (ipykernel)",
   "language": "python",
   "name": "python3"
  },
  "language_info": {
   "codemirror_mode": {
    "name": "ipython",
    "version": 3
   },
   "file_extension": ".py",
   "mimetype": "text/x-python",
   "name": "python",
   "nbconvert_exporter": "python",
   "pygments_lexer": "ipython3",
   "version": "3.9.12"
  }
 },
 "nbformat": 4,
 "nbformat_minor": 5
}
